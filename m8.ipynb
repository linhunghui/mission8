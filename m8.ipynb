{
 "cells": [
  {
   "cell_type": "code",
   "execution_count": 4,
   "metadata": {},
   "outputs": [
    {
     "name": "stdout",
     "output_type": "stream",
     "text": [
      " * Serving Flask app \"__main__\" (lazy loading)\n",
      " * Environment: production\n",
      "   WARNING: Do not use the development server in a production environment.\n",
      "   Use a production WSGI server instead.\n",
      " * Debug mode: off\n"
     ]
    },
    {
     "name": "stderr",
     "output_type": "stream",
     "text": [
      " * Running on http://0.0.0.0:5000/ (Press CTRL+C to quit)\n"
     ]
    },
    {
     "name": "stdout",
     "output_type": "stream",
     "text": [
      "=================================================\n",
      "test.txt存檔完成~~\n",
      "\n"
     ]
    },
    {
     "name": "stderr",
     "output_type": "stream",
     "text": [
      "10.120.23.229 - - [10/Jan/2019 20:21:34] \"POST / HTTP/1.1\" 200 -\n"
     ]
    }
   ],
   "source": [
    "#引用套件\n",
    "import boto3\n",
    "from pprint import pprint\n",
    "from flask import Flask, request, abort, jsonify\n",
    "\n",
    "\n",
    "#flask這個應用的啟動點\n",
    "app = Flask(__name__,static_url_path = \"/images\" , static_folder = \"./images/\" )\n",
    "#為這個啟動點增加訪問路徑/，並定義方法為post\n",
    "@app.route('/',methods=['POST'])\n",
    "\n",
    "\n",
    "#用戶能對此端口用POST方法訪問，挾帶任意json body\n",
    "def ggboy():\n",
    "    #將用戶傳過來的request轉成json\n",
    "    t =request.get_json()\n",
    "    #取得用戶json的nickname並組成{'student19':xxxx}\n",
    "    jsonDict = {'ggboy': t.get('nickname','gggbyebye')}\n",
    "    #=================================================\n",
    "\n",
    "    #將此body轉存成檔案，存在伺服器上\n",
    "    openfile = open('./ggyytest.txt','w')\n",
    "    openfile.write(str(jsonDict)+\"\\n\\n\")\n",
    "    openfile.close()\n",
    "    print('=================================================\\ntest.txt存檔完成~~\\n')\n",
    "\n",
    "\n",
    "    #將此檔案上傳至 iii-tutorial-v2桶內的student19資料夾下\n",
    "    #訪問s3桶子\n",
    "    s3 = boto3.client('s3')\n",
    "    #上傳S3/iii-tutorial-v2/ggtest\n",
    "    s3.upload_file('ggyytest.txt', 'iii-tutorial-v2', 'student19/ggtest.txt')\n",
    "    return jsonify(jsonDict)\n",
    "           \n",
    "if __name__ == \"__main__\":\n",
    "    app.run(host='0.0.0.0')"
   ]
  },
  {
   "cell_type": "code",
   "execution_count": null,
   "metadata": {},
   "outputs": [],
   "source": []
  }
 ],
 "metadata": {
  "kernelspec": {
   "display_name": "Python 3",
   "language": "python",
   "name": "python3"
  },
  "language_info": {
   "codemirror_mode": {
    "name": "ipython",
    "version": 3
   },
   "file_extension": ".py",
   "mimetype": "text/x-python",
   "name": "python",
   "nbconvert_exporter": "python",
   "pygments_lexer": "ipython3",
   "version": "3.7.2"
  }
 },
 "nbformat": 4,
 "nbformat_minor": 2
}
